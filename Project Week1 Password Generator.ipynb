{
 "cells": [
  {
   "cell_type": "code",
   "execution_count": 51,
   "metadata": {},
   "outputs": [
    {
     "name": "stdout",
     "output_type": "stream",
     "text": [
      "How many characters do you want your password to be? Instructions: Enter an integer number between 4 and 32.\n",
      "27\n"
     ]
    }
   ],
   "source": [
    "num_char = 0\n",
    "while num_char < 4 or num_char > 32:\n",
    "    try :\n",
    "        num_char=int(input(\"How many characters do you want your password to be? Instructions: Enter an integer number between 4 and 32.\\n\"))\n",
    "        if num_char < 4 or num_char > 32:\n",
    "            print(\"The number should be between 4 and 32\")\n",
    "    except ValueError:\n",
    "        print(\"This is not an integer!\")"
   ]
  },
  {
   "cell_type": "code",
   "execution_count": 52,
   "metadata": {},
   "outputs": [
    {
     "name": "stdout",
     "output_type": "stream",
     "text": [
      "Would you like to include uppercase letters? Instructions: Answer with Y for Yes and N for No\n",
      "y\n"
     ]
    }
   ],
   "source": [
    "uppercase=''\n",
    "while uppercase.lower() != \"y\" and uppercase.lower() != \"n\":\n",
    "    uppercase=input(\"Would you like to include uppercase letters? Instructions: Answer with Y for Yes and N for No\\n\")\n",
    "    if uppercase.lower() != \"y\" and uppercase.lower() != \"n\":\n",
    "        print(\"Answer with Y or N!\")"
   ]
  },
  {
   "cell_type": "code",
   "execution_count": 53,
   "metadata": {},
   "outputs": [
    {
     "name": "stdout",
     "output_type": "stream",
     "text": [
      "Would you like to include lowercase letters? Instructions: Answer with Y for Yes and N for No\n",
      "y\n"
     ]
    }
   ],
   "source": [
    "lowercase=''\n",
    "while lowercase.lower() != \"y\" and lowercase.lower() != \"n\":\n",
    "    lowercase=input(\"Would you like to include lowercase letters? Instructions: Answer with Y for Yes and N for No\\n\")\n",
    "    if lowercase.lower() != \"y\" and lowercase.lower() != \"n\":\n",
    "        print(\"Answer with Y or N!\")"
   ]
  },
  {
   "cell_type": "code",
   "execution_count": 54,
   "metadata": {},
   "outputs": [
    {
     "name": "stdout",
     "output_type": "stream",
     "text": [
      "Would you like to include numbers? Instructions: Answer with Y for Yes and N for No\n",
      "y\n"
     ]
    }
   ],
   "source": [
    "number=''\n",
    "while number.lower() != \"y\" and number.lower() != \"n\":\n",
    "    number=input(\"Would you like to include numbers? Instructions: Answer with Y for Yes and N for No\\n\")\n",
    "    if number.lower() != \"y\" and number.lower() != \"n\":\n",
    "        print(\"Answer with Y or N!\")"
   ]
  },
  {
   "cell_type": "code",
   "execution_count": 55,
   "metadata": {},
   "outputs": [
    {
     "name": "stdout",
     "output_type": "stream",
     "text": [
      "Would you like to include symbols? Instructions: Answer with Y for Yes and N for No\n",
      "y\n"
     ]
    }
   ],
   "source": [
    "symbols=''\n",
    "while symbols.lower() != \"y\" and symbols.lower() != \"n\":\n",
    "    symbols=input(\"Would you like to include symbols? Instructions: Answer with Y for Yes and N for No\\n\")\n",
    "    if symbols.lower() != \"y\" and symbols.lower() != \"n\":\n",
    "        print(\"Answer with Y or N!\")"
   ]
  },
  {
   "cell_type": "code",
   "execution_count": 56,
   "metadata": {},
   "outputs": [],
   "source": [
    "def password_generator(lenght, upper, lower, num, symb):\n",
    "    password_list=\"\"\n",
    "    password=\"\"\n",
    "    if lower.lower()==\"n\" and upper.lower()==\"n\" and num.lower()==\"n\" and symb.lower()==\"n\":\n",
    "        return print('Do you want a password?!?')\n",
    "    \n",
    "    if lower.lower()==\"y\":\n",
    "        password_list=password_list + string.ascii_lowercase\n",
    "        \n",
    "    if upper.lower()==\"y\":\n",
    "        password_list=password_list + string.ascii_uppercase\n",
    "    if num.lower()==\"y\":\n",
    "        password_list=password_list + string.digits\n",
    "    if symb.lower()==\"y\":\n",
    "        password_list=password_list + string.punctuation\n",
    "    for i in range(lenght):\n",
    "        password=password + \"\".join(random.choice(password_list))\n",
    "    return password"
   ]
  },
  {
   "cell_type": "code",
   "execution_count": 59,
   "metadata": {},
   "outputs": [
    {
     "data": {
      "text/plain": [
       "'=N;Z1xAMo$T/U):\"<gqn8z},\\\\Gm'"
      ]
     },
     "execution_count": 59,
     "metadata": {},
     "output_type": "execute_result"
    }
   ],
   "source": [
    "password_generator(lenght = num_char, upper=uppercase , lower = lowercase , num = number, symb = symbols)"
   ]
  },
  {
   "cell_type": "code",
   "execution_count": 58,
   "metadata": {},
   "outputs": [],
   "source": [
    "import random"
   ]
  },
  {
   "cell_type": "code",
   "execution_count": 42,
   "metadata": {},
   "outputs": [],
   "source": [
    "import string"
   ]
  },
  {
   "cell_type": "code",
   "execution_count": null,
   "metadata": {},
   "outputs": [],
   "source": []
  }
 ],
 "metadata": {
  "kernelspec": {
   "display_name": "Python 3",
   "language": "python",
   "name": "python3"
  },
  "language_info": {
   "codemirror_mode": {
    "name": "ipython",
    "version": 3
   },
   "file_extension": ".py",
   "mimetype": "text/x-python",
   "name": "python",
   "nbconvert_exporter": "python",
   "pygments_lexer": "ipython3",
   "version": "3.8.5"
  }
 },
 "nbformat": 4,
 "nbformat_minor": 4
}
